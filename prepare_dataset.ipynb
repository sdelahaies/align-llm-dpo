{
 "cells": [
  {
   "cell_type": "code",
   "execution_count": 1,
   "metadata": {},
   "outputs": [
    {
     "name": "stderr",
     "output_type": "stream",
     "text": [
      "/home/ubuntu/align-llm-dpo/.venv/lib/python3.10/site-packages/tqdm/auto.py:21: TqdmWarning: IProgress not found. Please update jupyter and ipywidgets. See https://ipywidgets.readthedocs.io/en/stable/user_install.html\n",
      "  from .autonotebook import tqdm as notebook_tqdm\n",
      "Note: Environment variable`HF_TOKEN` is set and is the current active token independently from the token you've just configured.\n"
     ]
    }
   ],
   "source": [
    "from huggingface_hub import login\n",
    "import os\n",
    "from dotenv import load_dotenv\n",
    "\n",
    "load_dotenv()\n",
    "\n",
    "\n",
    "hf_token = os.getenv(\"HF_TOKEN\")\n",
    "\n",
    "login(token=hf_token)"
   ]
  },
  {
   "cell_type": "code",
   "execution_count": 3,
   "metadata": {},
   "outputs": [],
   "source": [
    "from transformers import AutoTokenizer\n",
    "\n",
    "\n",
    "model_name = \"meta-llama/Llama-3.2-1B-Instruct\"\n",
    "tokenizer = AutoTokenizer.from_pretrained(model_name,token=hf_token)"
   ]
  },
  {
   "cell_type": "code",
   "execution_count": 4,
   "metadata": {},
   "outputs": [
    {
     "name": "stderr",
     "output_type": "stream",
     "text": [
      "Generating train split: 100%|██████████| 200035/200035 [00:00<00:00, 325387.44 examples/s]\n"
     ]
    },
    {
     "data": {
      "text/plain": [
       "Dataset({\n",
       "    features: ['question', 'answer'],\n",
       "    num_rows: 200035\n",
       "})"
      ]
     },
     "execution_count": 4,
     "metadata": {},
     "output_type": "execute_result"
    }
   ],
   "source": [
    "from datasets import load_dataset\n",
    "\n",
    "# Load dataset from the hub\n",
    "dataset = load_dataset(\"microsoft/orca-math-word-problems-200k\", split=\"train\")\n",
    "\n",
    "dataset"
   ]
  },
  {
   "cell_type": "code",
   "execution_count": 5,
   "metadata": {},
   "outputs": [
    {
     "data": {
      "text/plain": [
       "{'question': 'Jungkook is the 5th place. Find the number of people who crossed the finish line faster than Jungkook.',\n",
       " 'answer': 'If Jungkook is in 5th place, then 4 people crossed the finish line faster than him.'}"
      ]
     },
     "execution_count": 5,
     "metadata": {},
     "output_type": "execute_result"
    }
   ],
   "source": [
    "from pprint import pprint\n",
    "\n",
    "dataset[0]"
   ]
  },
  {
   "cell_type": "code",
   "execution_count": 6,
   "metadata": {},
   "outputs": [
    {
     "name": "stderr",
     "output_type": "stream",
     "text": [
      "Map: 100%|██████████| 200035/200035 [00:12<00:00, 15422.65 examples/s]\n"
     ]
    },
    {
     "name": "stdout",
     "output_type": "stream",
     "text": [
      "[{'content': 'Solve the given high school math problem by providing a clear '\n",
      "             'explanation of each step leading to the final solution.\\n'\n",
      "             ' \\n'\n",
      "             'Provide a detailed breakdown of your calculations, beginning '\n",
      "             'with an explanation of the problem and describing how you derive '\n",
      "             'each formula, value, or conclusion. Use logical steps that build '\n",
      "             'upon one another, to arrive at the final answer in a systematic '\n",
      "             'manner.\\n'\n",
      "             ' \\n'\n",
      "             '# Steps\\n'\n",
      "             ' \\n'\n",
      "             '1. **Understand the Problem**: Restate the given math problem '\n",
      "             'and clearly identify the main question and any important given '\n",
      "             'values.\\n'\n",
      "             '2. **Set Up**: Identify the key formulas or concepts that could '\n",
      "             'help solve the problem (e.g., algebraic manipulation, geometry '\n",
      "             'formulas, trigonometric identities).\\n'\n",
      "             '3. **Solve Step-by-Step**: Iteratively progress through each '\n",
      "             'step of the math problem, justifying why each consecutive '\n",
      "             'operation brings you closer to the solution.\\n'\n",
      "             '4. **Double Check**: If applicable, double check the work for '\n",
      "             'accuracy and sense, and mention potential alternative approaches '\n",
      "             'if any.\\n'\n",
      "             '5. **Final Answer**: Provide the numerical or algebraic solution '\n",
      "             'clearly, accompanied by appropriate units if relevant.\\n'\n",
      "             ' \\n'\n",
      "             '# Notes\\n'\n",
      "             ' \\n'\n",
      "             '- Always clearly define any variable or term used.\\n'\n",
      "             '- Wherever applicable, include unit conversions or context to '\n",
      "             'explain why each formula or step has been chosen.\\n'\n",
      "             '- Assume the level of mathematics is suitable for high school, '\n",
      "             'and avoid overly advanced math techniques unless they are common '\n",
      "             'at that level.\\n',\n",
      "  'role': 'system'},\n",
      " {'content': 'There is a machine that makes 32 toys per hour. Find how many '\n",
      "             'boxes are needed to put 4 of the toys the machine made for 3 '\n",
      "             'hours into each box.',\n",
      "  'role': 'user'},\n",
      " {'content': \"First, let's calculate the total number of toys made by the \"\n",
      "             'machine in 3 hours:\\n'\n",
      "             '\\n'\n",
      "             '32 toys/hour * 3 hours = 96 toys\\n'\n",
      "             '\\n'\n",
      "             'Now, if we want to put 4 toys into each box, we need to divide '\n",
      "             'the total number of toys by the number of toys per box:\\n'\n",
      "             '\\n'\n",
      "             '96 toys / 4 toys/box = 24 boxes\\n'\n",
      "             '\\n'\n",
      "             'Therefore, 24 boxes are needed to put 4 toys into each box.',\n",
      "  'role': 'assistant'}]\n"
     ]
    },
    {
     "name": "stderr",
     "output_type": "stream",
     "text": [
      "Creating json from Arrow format: 100%|██████████| 201/201 [00:04<00:00, 48.44ba/s]\n"
     ]
    },
    {
     "data": {
      "text/plain": [
       "541572034"
      ]
     },
     "execution_count": 6,
     "metadata": {},
     "output_type": "execute_result"
    }
   ],
   "source": [
    "# Create system prompt\n",
    "system_message = \"\"\"Solve the given high school math problem by providing a clear explanation of each step leading to the final solution.\n",
    " \n",
    "Provide a detailed breakdown of your calculations, beginning with an explanation of the problem and describing how you derive each formula, value, or conclusion. Use logical steps that build upon one another, to arrive at the final answer in a systematic manner.\n",
    " \n",
    "# Steps\n",
    " \n",
    "1. **Understand the Problem**: Restate the given math problem and clearly identify the main question and any important given values.\n",
    "2. **Set Up**: Identify the key formulas or concepts that could help solve the problem (e.g., algebraic manipulation, geometry formulas, trigonometric identities).\n",
    "3. **Solve Step-by-Step**: Iteratively progress through each step of the math problem, justifying why each consecutive operation brings you closer to the solution.\n",
    "4. **Double Check**: If applicable, double check the work for accuracy and sense, and mention potential alternative approaches if any.\n",
    "5. **Final Answer**: Provide the numerical or algebraic solution clearly, accompanied by appropriate units if relevant.\n",
    " \n",
    "# Notes\n",
    " \n",
    "- Always clearly define any variable or term used.\n",
    "- Wherever applicable, include unit conversions or context to explain why each formula or step has been chosen.\n",
    "- Assume the level of mathematics is suitable for high school, and avoid overly advanced math techniques unless they are common at that level.\n",
    "\"\"\"\n",
    " \n",
    "# convert to messages \n",
    "def create_conversation(sample):\n",
    "  return {\n",
    "    \"messages\": [\n",
    "      {\"role\": \"system\", \"content\": system_message},\n",
    "      {\"role\": \"user\", \"content\": sample[\"question\"]},\n",
    "      {\"role\": \"assistant\", \"content\": sample[\"answer\"]}\n",
    "    ]\n",
    "  }  \n",
    " \n",
    "\n",
    " \n",
    "# Convert dataset to OAI messages\n",
    "dataset = dataset.map(create_conversation, remove_columns=dataset.features, batched=False)\n",
    " \n",
    "pprint(dataset[345][\"messages\"])\n",
    " \n",
    "# save datasets to disk \n",
    "dataset.to_json(\"train_dataset.json\", orient=\"records\")"
   ]
  },
  {
   "cell_type": "code",
   "execution_count": 6,
   "metadata": {},
   "outputs": [
    {
     "data": {
      "text/plain": [
       "Dataset({\n",
       "    features: ['messages'],\n",
       "    num_rows: 200035\n",
       "})"
      ]
     },
     "execution_count": 6,
     "metadata": {},
     "output_type": "execute_result"
    }
   ],
   "source": [
    "dataset"
   ]
  }
 ],
 "metadata": {
  "kernelspec": {
   "display_name": ".venv",
   "language": "python",
   "name": "python3"
  },
  "language_info": {
   "codemirror_mode": {
    "name": "ipython",
    "version": 3
   },
   "file_extension": ".py",
   "mimetype": "text/x-python",
   "name": "python",
   "nbconvert_exporter": "python",
   "pygments_lexer": "ipython3",
   "version": "3.10.12"
  }
 },
 "nbformat": 4,
 "nbformat_minor": 2
}
