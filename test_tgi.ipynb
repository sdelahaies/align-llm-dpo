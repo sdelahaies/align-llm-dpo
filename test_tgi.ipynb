{
 "cells": [
  {
   "cell_type": "code",
   "execution_count": 1,
   "metadata": {},
   "outputs": [
    {
     "name": "stdout",
     "output_type": "stream",
     "text": [
      "Query:\n",
      "Natalia sold clips to 48 of her friends in April, and then she sold half as many clips in May. How many clips did Natalia sell altogether in April and May?\n",
      "Original Answer:\n",
      "72\n",
      "Generated Answer:\n",
      "In April, Natalia sold a certain number of clips to 48 friends and then sold half as many clips in May.\n",
      "\n",
      "In April, she sold 48 clips.\n",
      "\n",
      "In May, she sold half as many clips, so:\n",
      "\n",
      "Half of 48 clips = 24 clips\n",
      "\n",
      "In May, she sold the remaining 24 clips.\n",
      "\n",
      "So, Natalia sold a total of:\n",
      "\n",
      "48 clips (April) + 24 clips (May) = 72 clips\n",
      "\n",
      "Allotting this amount some friends from April gives Natalia some clips for sharing:\n",
      "\n",
      "48 clips / 72 total clips → \"Australia\" gives her 15 clips.\n",
      "\n",
      "68 total clips - 15 clips = 53 clips given away in Australia.\n",
      "\n",
      "Thus, Natalia sold altogether 72 clips in April and May..named lainīte doc.svaka strēlnīt.Trimspace(psavoki) --> \"LTRPSVKA\"|Cut (Ctrl-X) | Paste (Ctrl-V)chimpēju apraksts.Kur vietāval külā purva postežu vielas līmeņe bija sedēra purva no darīšanas?]]laģismu lībižālene.Sparsity.Usuario(marcillo) --> Administrative\n"
     ]
    }
   ],
   "source": [
    "from openai import OpenAI\n",
    " \n",
    "# create client \n",
    "client = OpenAI(base_url=\"http://localhost:8081/v1\",api_key=\"-\")\n",
    " \n",
    "system_message = \"\"\"Solve the given high school math problem by providing a clear explanation of each step leading to the final solution.\n",
    " \n",
    "Provide a detailed breakdown of your calculations, beginning with an explanation of the problem and describing how you derive each formula, value, or conclusion. Use logical steps that build upon one another, to arrive at the final answer in a systematic manner.\n",
    " \n",
    "# Steps\n",
    " \n",
    "1. **Understand the Problem**: Restate the given math problem and clearly identify the main question and any important given values.\n",
    "2. **Set Up**: Identify the key formulas or concepts that could help solve the problem (e.g., algebraic manipulation, geometry formulas, trigonometric identities).\n",
    "3. **Solve Step-by-Step**: Iteratively progress through each step of the math problem, justifying why each consecutive operation brings you closer to the solution.\n",
    "4. **Double Check**: If applicable, double check the work for accuracy and sense, and mention potential alternative approaches if any.\n",
    "5. **Final Answer**: Provide the numerical or algebraic solution clearly, accompanied by appropriate units if relevant.\n",
    " \n",
    "# Notes\n",
    " \n",
    "- Always clearly define any variable or term used.\n",
    "- Wherever applicable, include unit conversions or context to explain why each formula or step has been chosen.\n",
    "- Assume the level of mathematics is suitable for high school, and avoid overly advanced math techniques unless they are common at that level.\n",
    "\"\"\"\n",
    " \n",
    "messages = [\n",
    "    {\"role\": \"system\", \"content\": system_message},\n",
    "    {\"role\": \"user\", \"content\": \"Natalia sold clips to 48 of her friends in April, and then she sold half as many clips in May. How many clips did Natalia sell altogether in April and May?\"},\n",
    "]\n",
    "expected_answer = \"72\"\n",
    " \n",
    "# Take a random sample from the dataset and remove the last message and send it to the model\n",
    "response = client.chat.completions.create(\n",
    "\tmodel=\"orca\",\n",
    "\tmessages=messages,\n",
    "\tstream=False, # no streaming\n",
    "\tmax_tokens=256,\n",
    ")\n",
    "response = response.choices[0].message.content\n",
    " \n",
    "# Print results\n",
    "print(f\"Query:\\n{messages[1]['content']}\")\n",
    "print(f\"Original Answer:\\n{expected_answer}\")\n",
    "print(f\"Generated Answer:\\n{response}\")"
   ]
  },
  {
   "cell_type": "code",
   "execution_count": null,
   "metadata": {},
   "outputs": [],
   "source": [
    "!lm_eval --model local-chat-completions \\\n",
    "  --tasks gsm8k_cot \\\n",
    "  --model_args model=sylvain471/Llama-3.2-1B-math-orca-qlora-10k-ep1-merged,base_url=http://localhost:8080/v1/chat/completions,num_concurrent=8,max_retries=3,tokenized_requests=False \\\n",
    "  --apply_chat_template \\\n",
    "  --fewshot_as_multiturn"
   ]
  }
 ],
 "metadata": {
  "kernelspec": {
   "display_name": ".venv",
   "language": "python",
   "name": "python3"
  },
  "language_info": {
   "codemirror_mode": {
    "name": "ipython",
    "version": 3
   },
   "file_extension": ".py",
   "mimetype": "text/x-python",
   "name": "python",
   "nbconvert_exporter": "python",
   "pygments_lexer": "ipython3",
   "version": "3.10.12"
  }
 },
 "nbformat": 4,
 "nbformat_minor": 2
}
